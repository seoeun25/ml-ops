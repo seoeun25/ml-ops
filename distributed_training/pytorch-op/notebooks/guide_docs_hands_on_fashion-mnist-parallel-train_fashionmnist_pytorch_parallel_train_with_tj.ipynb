{
 "cells": [
  {
   "cell_type": "markdown",
   "id": "139e1840-06f6-49ba-aeec-61f0c3697bd4",
   "metadata": {
    "execution": {
     "iopub.execute_input": "2023-06-15T06:14:44.119679Z",
     "iopub.status.busy": "2023-06-15T06:14:44.119244Z",
     "iopub.status.idle": "2023-06-15T06:14:46.737888Z",
     "shell.execute_reply": "2023-06-15T06:14:46.736664Z",
     "shell.execute_reply.started": "2023-06-15T06:14:44.119627Z"
    },
    "jupyter": {
     "outputs_hidden": true
    },
    "tags": []
   },
   "source": [
    "# 노트북에서 Training Operator를 활용하여 병렬 학습 모델 구현하기"
   ]
  },
  {
   "cell_type": "code",
   "execution_count": 1,
   "id": "625ddfda-d89c-475e-a117-100d3ad97548",
   "metadata": {
    "execution": {
     "iopub.execute_input": "2024-01-15T06:00:14.717459Z",
     "iopub.status.busy": "2024-01-15T06:00:14.716789Z",
     "iopub.status.idle": "2024-01-15T06:00:16.129626Z",
     "shell.execute_reply": "2024-01-15T06:00:16.128658Z",
     "shell.execute_reply.started": "2024-01-15T06:00:14.717371Z"
    },
    "tags": []
   },
   "outputs": [],
   "source": [
    "import warnings\n",
    "warnings.simplefilter(action='ignore', category=FutureWarning)\n",
    "from kakaocloud_kbm.training import TrainingClient\n",
    "from kakaocloud_kbm.training.utils.utils import get_default_target_namespace"
   ]
  },
  {
   "cell_type": "markdown",
   "id": "815ce37b-98ef-4523-aa00-d52d423318a7",
   "metadata": {},
   "source": [
    "## Fashion MNIST CNN 모델 학습 함수 선언\n",
    "\n",
    "- Training Job에 넣어줄 간단한 CNN 모델 학습 함수를 선언합니다\n",
    "- torchvision 패키지를 통해 Fashion MNIST 데이터를 다운로드 코드 포함"
   ]
  },
  {
   "cell_type": "code",
   "execution_count": 2,
   "id": "d7bd6e1f-11da-4643-8000-3b5d552a39ff",
   "metadata": {
    "execution": {
     "iopub.execute_input": "2024-01-15T06:00:16.776603Z",
     "iopub.status.busy": "2024-01-15T06:00:16.775940Z",
     "iopub.status.idle": "2024-01-15T06:00:16.818736Z",
     "shell.execute_reply": "2024-01-15T06:00:16.816776Z",
     "shell.execute_reply.started": "2024-01-15T06:00:16.776518Z"
    },
    "tags": []
   },
   "outputs": [],
   "source": [
    "def train_pytorch_model():\n",
    "    import logging\n",
    "    import os\n",
    "    from torchvision import transforms, datasets\n",
    "    import torch\n",
    "    from torch import nn\n",
    "    import torch.nn.functional as F\n",
    "    import torch.distributed as dist\n",
    "\n",
    "    logging.basicConfig(\n",
    "        format=\"%(asctime)s %(levelname)-8s %(message)s\",\n",
    "        datefmt=\"%Y-%m-%dT%H:%M:%SZ\",\n",
    "        level=logging.DEBUG,\n",
    "    )\n",
    "\n",
    "    # Create PyTorch CNN Model.\n",
    "    class Net(nn.Module):\n",
    "        def __init__(self):\n",
    "            super(Net, self).__init__()\n",
    "            self.conv1 = nn.Conv2d(1, 20, 5, 1)\n",
    "            self.conv2 = nn.Conv2d(20, 50, 5, 1)\n",
    "            self.fc1 = nn.Linear(4 * 4 * 50, 500)\n",
    "            self.fc2 = nn.Linear(500, 10)\n",
    "\n",
    "        def forward(self, x):\n",
    "            x = F.relu(self.conv1(x))\n",
    "            x = F.max_pool2d(x, 2, 2)\n",
    "            x = F.relu(self.conv2(x))\n",
    "            x = F.max_pool2d(x, 2, 2)\n",
    "            x = x.view(-1, 4 * 4 * 50)\n",
    "            x = F.relu(self.fc1(x))\n",
    "            x = self.fc2(x)\n",
    "            return F.log_softmax(x, dim=1)\n",
    "\n",
    "    # Get dist parameters.\n",
    "    # Kubeflow Training Operator automatically set appropriate RANK and WORLD_SIZE based on the configuration.\n",
    "    RANK = int(os.environ[\"RANK\"])\n",
    "    WORLD_SIZE = int(os.environ[\"WORLD_SIZE\"])\n",
    "\n",
    "    model = Net()\n",
    "    # Attach model to DistributedDataParallel strategy.\n",
    "    dist.init_process_group(backend=\"gloo\", rank=RANK, world_size=WORLD_SIZE)\n",
    "    Distributor = nn.parallel.DistributedDataParallel\n",
    "    model = Distributor(model)\n",
    "\n",
    "    # Split batch size for each worker.\n",
    "    batch_size = int(128 / WORLD_SIZE)\n",
    "\n",
    "    # Get Fashion MNIST DataSet.\n",
    "    train_loader = torch.utils.data.DataLoader(\n",
    "        datasets.FashionMNIST(\n",
    "            \"./data\",\n",
    "            train=True,\n",
    "            download=True,\n",
    "            transform=transforms.Compose([transforms.ToTensor()]),\n",
    "        ),\n",
    "        batch_size=batch_size,\n",
    "    )\n",
    "\n",
    "    # Start Training.\n",
    "    logging.info(f\"Start training for RANK: {RANK}. WORLD_SIZE: {WORLD_SIZE}\")\n",
    "    for epoch in range(1):\n",
    "        model.train()\n",
    "        optimizer = torch.optim.SGD(model.parameters(), lr=0.01, momentum=0.5)\n",
    "\n",
    "        for batch_idx, (data, target) in enumerate(train_loader):\n",
    "            optimizer.zero_grad()\n",
    "            output = model(data)\n",
    "            loss = F.nll_loss(output, target)\n",
    "            loss.backward()\n",
    "            optimizer.step()\n",
    "            if batch_idx % 10 == 0:\n",
    "                logging.info(\n",
    "                    \"Train Epoch: {} [{}/{} ({:.0f}%)]\\tloss={:.4f}\".format(\n",
    "                        epoch,\n",
    "                        batch_idx * len(data),\n",
    "                        len(train_loader.dataset),\n",
    "                        100.0 * batch_idx / len(train_loader),\n",
    "                        loss.item(),\n",
    "                    )\n",
    "                )"
   ]
  },
  {
   "cell_type": "markdown",
   "id": "fa631315-0103-46b6-b82c-106e93c70162",
   "metadata": {
    "execution": {
     "iopub.execute_input": "2023-06-15T07:49:53.850570Z",
     "iopub.status.busy": "2023-06-15T07:49:53.850224Z",
     "iopub.status.idle": "2023-06-15T07:49:53.855730Z",
     "shell.execute_reply": "2023-06-15T07:49:53.854241Z",
     "shell.execute_reply.started": "2023-06-15T07:49:53.850530Z"
    }
   },
   "source": [
    "## Training Job 실행"
   ]
  },
  {
   "cell_type": "code",
   "execution_count": 3,
   "id": "176685d1-8f5e-41e0-ae09-2085df2c3842",
   "metadata": {
    "execution": {
     "iopub.execute_input": "2024-01-15T06:00:20.506309Z",
     "iopub.status.busy": "2024-01-15T06:00:20.505578Z",
     "iopub.status.idle": "2024-01-15T06:00:20.517723Z",
     "shell.execute_reply": "2024-01-15T06:00:20.515473Z",
     "shell.execute_reply.started": "2024-01-15T06:00:20.506221Z"
    },
    "tags": []
   },
   "outputs": [],
   "source": [
    "# VARIABLES\n",
    "my_namespace = get_default_target_namespace()\n",
    "pytorchjob_name = \"parallel-train-pytorch\"\n",
    "gpu_mig_for_1ea = {\n",
    "    \"nvidia.com/mig-1g.10gb\": \"1\",\n",
    "    \"cpu\": \"1\",\n",
    "    \"memory\": \"2G\"\n",
    "\n",
    "}\n",
    "num_workers = 2  # 남는 MIG 인스턴스 대수 -1 만큼 변경(1대는 master, n대는 worker에서 사용)"
   ]
  },
  {
   "cell_type": "code",
   "execution_count": 4,
   "id": "f5b599c5-7217-4a3f-8195-ce9d0751df8b",
   "metadata": {
    "execution": {
     "iopub.execute_input": "2024-01-15T06:00:25.229070Z",
     "iopub.status.busy": "2024-01-15T06:00:25.228308Z",
     "iopub.status.idle": "2024-01-15T06:00:25.291612Z",
     "shell.execute_reply": "2024-01-15T06:00:25.289417Z",
     "shell.execute_reply.started": "2024-01-15T06:00:25.228977Z"
    },
    "tags": []
   },
   "outputs": [
    {
     "name": "stderr",
     "output_type": "stream",
     "text": [
      "[I 240115 15:00:25 utils:97] PyTorchJob kbm-u-jkson/parallel-train-pytorch has been created\n"
     ]
    }
   ],
   "source": [
    "training_client = TrainingClient()\n",
    "\n",
    "training_client.create_pytorchjob_from_func(\n",
    "    name=pytorchjob_name,\n",
    "    namespace=my_namespace,\n",
    "    func=train_pytorch_model,\n",
    "    num_worker_replicas=num_workers,\n",
    "    limit_resources=gpu_mig_for_1ea\n",
    ")"
   ]
  },
  {
   "cell_type": "markdown",
   "id": "4894c2ea-20a2-467d-aade-eff62437364f",
   "metadata": {},
   "source": [
    "## Training Job 상태 확인"
   ]
  },
  {
   "cell_type": "code",
   "execution_count": 12,
   "id": "50d13d37-1bc6-445a-ab95-e73e688d7a06",
   "metadata": {
    "execution": {
     "iopub.execute_input": "2024-01-15T06:08:35.579320Z",
     "iopub.status.busy": "2024-01-15T06:08:35.578662Z",
     "iopub.status.idle": "2024-01-15T06:08:35.735919Z",
     "shell.execute_reply": "2024-01-15T06:08:35.733110Z",
     "shell.execute_reply.started": "2024-01-15T06:08:35.579237Z"
    },
    "tags": []
   },
   "outputs": [
    {
     "name": "stdout",
     "output_type": "stream",
     "text": [
      "[{'last_transition_time': datetime.datetime(2024, 1, 15, 6, 0, 25, tzinfo=tzutc()),\n",
      " 'last_update_time': datetime.datetime(2024, 1, 15, 6, 0, 25, tzinfo=tzutc()),\n",
      " 'message': 'PyTorchJob parallel-train-pytorch is created.',\n",
      " 'reason': 'PyTorchJobCreated',\n",
      " 'status': 'True',\n",
      " 'type': 'Created'}, {'last_transition_time': datetime.datetime(2024, 1, 15, 6, 2, 17, tzinfo=tzutc()),\n",
      " 'last_update_time': datetime.datetime(2024, 1, 15, 6, 2, 17, tzinfo=tzutc()),\n",
      " 'message': 'PyTorchJob parallel-train-pytorch is running.',\n",
      " 'reason': 'JobRunning',\n",
      " 'status': 'True',\n",
      " 'type': 'Running'}]\n",
      "Is job running: True\n"
     ]
    }
   ],
   "source": [
    "# STATUS DETAILS\n",
    "print(training_client.get_job_conditions(name=pytorchjob_name, job_kind='PyTorchJob'))\n",
    "\n",
    "# RUN CHECK\n",
    "print(f\"Is job running: {training_client.is_job_running(name=pytorchjob_name, job_kind='PyTorchJob')}\")"
   ]
  },
  {
   "cell_type": "markdown",
   "id": "5759dc02-a0c2-48dd-beb3-7d8092853405",
   "metadata": {},
   "source": [
    "## 학습 Pod 확인"
   ]
  },
  {
   "cell_type": "code",
   "execution_count": 11,
   "id": "cdaac84f-6f62-40cc-b65b-d626b36ae248",
   "metadata": {
    "execution": {
     "iopub.execute_input": "2024-01-15T06:08:33.230294Z",
     "iopub.status.busy": "2024-01-15T06:08:33.229557Z",
     "iopub.status.idle": "2024-01-15T06:08:33.312532Z",
     "shell.execute_reply": "2024-01-15T06:08:33.310690Z",
     "shell.execute_reply.started": "2024-01-15T06:08:33.230208Z"
    },
    "tags": []
   },
   "outputs": [
    {
     "data": {
      "text/plain": [
       "['parallel-train-pytorch-master-0',\n",
       " 'parallel-train-pytorch-worker-0',\n",
       " 'parallel-train-pytorch-worker-1']"
      ]
     },
     "execution_count": 11,
     "metadata": {},
     "output_type": "execute_result"
    }
   ],
   "source": [
    "training_client.get_job_pod_names(pytorchjob_name)"
   ]
  },
  {
   "cell_type": "markdown",
   "id": "6b447255-df3d-447f-bb17-6f70fc84476d",
   "metadata": {},
   "source": [
    "## 로그 출력"
   ]
  },
  {
   "cell_type": "code",
   "execution_count": 16,
   "id": "04ca19f5-c627-47ab-b07a-3fa6424de1e1",
   "metadata": {
    "execution": {
     "iopub.execute_input": "2023-06-15T09:53:48.864256Z",
     "iopub.status.busy": "2023-06-15T09:53:48.863888Z",
     "iopub.status.idle": "2023-06-15T09:53:48.897979Z",
     "shell.execute_reply": "2023-06-15T09:53:48.896994Z",
     "shell.execute_reply.started": "2023-06-15T09:53:48.864210Z"
    }
   },
   "outputs": [
    {
     "name": "stderr",
     "output_type": "stream",
     "text": [
      "[I 230615 18:53:48 training_client:577] The logs of pod parallel-train-pytorch-master-0:\n",
      "     2023-06-15T09:26:13Z INFO     Added key: store_based_barrier_key:1 to store for rank: 0\n",
      "    2023-06-15T09:26:13Z INFO     Rank 0: Completed store-based barrier for key:store_based_barrier_key:1 with 3 nodes.\n",
      "    Downloading http://fashion-mnist.s3-website.eu-central-1.amazonaws.com/train-images-idx3-ubyte.gz\n",
      "    Downloading http://fashion-mnist.s3-website.eu-central-1.amazonaws.com/train-images-idx3-ubyte.gz to ./data/FashionMNIST/raw/train-images-idx3-ubyte.gz\n",
      "100%|██████████| 26421880/26421880 [00:03<00:00, 6743589.41it/s] \n",
      "    Extracting ./data/FashionMNIST/raw/train-images-idx3-ubyte.gz to ./data/FashionMNIST/raw\n",
      "    \n",
      "    Downloading http://fashion-mnist.s3-website.eu-central-1.amazonaws.com/train-labels-idx1-ubyte.gz\n",
      "    Downloading http://fashion-mnist.s3-website.eu-central-1.amazonaws.com/train-labels-idx1-ubyte.gz to ./data/FashionMNIST/raw/train-labels-idx1-ubyte.gz\n",
      "100%|██████████| 29515/29515 [00:00<00:00, 61060.42it/s]\n",
      "    Extracting ./data/FashionMNIST/raw/train-labels-idx1-ubyte.gz to ./data/FashionMNIST/raw\n",
      "    \n",
      "    Downloading http://fashion-mnist.s3-website.eu-central-1.amazonaws.com/t10k-images-idx3-ubyte.gz\n",
      "    Downloading http://fashion-mnist.s3-website.eu-central-1.amazonaws.com/t10k-images-idx3-ubyte.gz to ./data/FashionMNIST/raw/t10k-images-idx3-ubyte.gz\n",
      "100%|██████████| 4422102/4422102 [00:09<00:00, 461470.77it/s] \n",
      "    Extracting ./data/FashionMNIST/raw/t10k-images-idx3-ubyte.gz to ./data/FashionMNIST/raw\n",
      "    \n",
      "    Downloading http://fashion-mnist.s3-website.eu-central-1.amazonaws.com/t10k-labels-idx1-ubyte.gz\n",
      "    Downloading http://fashion-mnist.s3-website.eu-central-1.amazonaws.com/t10k-labels-idx1-ubyte.gz to ./data/FashionMNIST/raw/t10k-labels-idx1-ubyte.gz\n",
      "100%|██████████| 5148/5148 [00:00<00:00, 27541169.63it/s]\n",
      "    Extracting ./data/FashionMNIST/raw/t10k-labels-idx1-ubyte.gz to ./data/FashionMNIST/raw\n",
      "    \n",
      "    2023-06-15T09:26:32Z INFO     Start training for RANK: 0. WORLD_SIZE: 3\n",
      "    2023-06-15T09:26:38Z INFO     Train Epoch: 0 [0/60000 (0%)]\tloss=2.2936\n",
      "    2023-06-15T09:26:38Z INFO     Reducer buckets have been rebuilt in this iteration.\n",
      "    2023-06-15T09:26:49Z INFO     Train Epoch: 0 [420/60000 (1%)]\tloss=2.2979\n",
      "    2023-06-15T09:27:00Z INFO     Train Epoch: 0 [840/60000 (1%)]\tloss=2.2837\n",
      "    2023-06-15T09:27:12Z INFO     Train Epoch: 0 [1260/60000 (2%)]\tloss=2.2890\n",
      "    2023-06-15T09:27:24Z INFO     Train Epoch: 0 [1680/60000 (3%)]\tloss=2.2612\n",
      "    2023-06-15T09:27:34Z INFO     Train Epoch: 0 [2100/60000 (3%)]\tloss=2.2550\n",
      "    2023-06-15T09:27:45Z INFO     Train Epoch: 0 [2520/60000 (4%)]\tloss=2.2404\n",
      "    2023-06-15T09:27:57Z INFO     Train Epoch: 0 [2940/60000 (5%)]\tloss=2.2176\n",
      "    2023-06-15T09:28:09Z INFO     Train Epoch: 0 [3360/60000 (6%)]\tloss=2.1875\n",
      "    2023-06-15T09:28:20Z INFO     Train Epoch: 0 [3780/60000 (6%)]\tloss=2.1270\n",
      "    2023-06-15T09:28:31Z INFO     Train Epoch: 0 [4200/60000 (7%)]\tloss=2.1219\n",
      "    2023-06-15T09:28:43Z INFO     Train Epoch: 0 [4620/60000 (8%)]\tloss=1.9611\n",
      "    2023-06-15T09:28:54Z INFO     Train Epoch: 0 [5040/60000 (8%)]\tloss=1.8831\n",
      "    2023-06-15T09:29:05Z INFO     Train Epoch: 0 [5460/60000 (9%)]\tloss=1.6579\n",
      "    2023-06-15T09:29:17Z INFO     Train Epoch: 0 [5880/60000 (10%)]\tloss=1.4915\n",
      "    2023-06-15T09:29:27Z INFO     Train Epoch: 0 [6300/60000 (10%)]\tloss=1.2794\n",
      "    2023-06-15T09:29:39Z INFO     Train Epoch: 0 [6720/60000 (11%)]\tloss=1.3252\n",
      "    2023-06-15T09:29:51Z INFO     Train Epoch: 0 [7140/60000 (12%)]\tloss=1.1917\n",
      "    2023-06-15T09:30:02Z INFO     Train Epoch: 0 [7560/60000 (13%)]\tloss=1.0300\n",
      "    2023-06-15T09:30:14Z INFO     Train Epoch: 0 [7980/60000 (13%)]\tloss=1.1773\n",
      "    2023-06-15T09:30:26Z INFO     Train Epoch: 0 [8400/60000 (14%)]\tloss=1.0059\n",
      "    2023-06-15T09:30:36Z INFO     Train Epoch: 0 [8820/60000 (15%)]\tloss=0.8322\n",
      "    2023-06-15T09:30:48Z INFO     Train Epoch: 0 [9240/60000 (15%)]\tloss=0.9408\n",
      "    2023-06-15T09:30:59Z INFO     Train Epoch: 0 [9660/60000 (16%)]\tloss=1.0033\n",
      "    2023-06-15T09:31:10Z INFO     Train Epoch: 0 [10080/60000 (17%)]\tloss=0.7028\n",
      "    2023-06-15T09:31:21Z INFO     Train Epoch: 0 [10500/60000 (17%)]\tloss=0.6240\n",
      "    2023-06-15T09:31:33Z INFO     Train Epoch: 0 [10920/60000 (18%)]\tloss=0.8475\n",
      "    2023-06-15T09:31:44Z INFO     Train Epoch: 0 [11340/60000 (19%)]\tloss=0.9811\n",
      "    2023-06-15T09:31:55Z INFO     Train Epoch: 0 [11760/60000 (20%)]\tloss=0.8123\n",
      "    2023-06-15T09:32:06Z INFO     Train Epoch: 0 [12180/60000 (20%)]\tloss=0.8708\n",
      "    2023-06-15T09:32:17Z INFO     Train Epoch: 0 [12600/60000 (21%)]\tloss=1.1157\n",
      "    2023-06-15T09:32:29Z INFO     Train Epoch: 0 [13020/60000 (22%)]\tloss=0.7227\n",
      "    2023-06-15T09:32:41Z INFO     Train Epoch: 0 [13440/60000 (22%)]\tloss=0.9908\n",
      "    2023-06-15T09:32:52Z INFO     Train Epoch: 0 [13860/60000 (23%)]\tloss=1.0555\n",
      "    2023-06-15T09:33:04Z INFO     Train Epoch: 0 [14280/60000 (24%)]\tloss=0.8567\n",
      "    2023-06-15T09:33:15Z INFO     Train Epoch: 0 [14700/60000 (24%)]\tloss=0.6217\n",
      "    2023-06-15T09:33:26Z INFO     Train Epoch: 0 [15120/60000 (25%)]\tloss=0.9146\n",
      "    2023-06-15T09:33:37Z INFO     Train Epoch: 0 [15540/60000 (26%)]\tloss=0.9249\n",
      "    2023-06-15T09:33:49Z INFO     Train Epoch: 0 [15960/60000 (27%)]\tloss=0.7384\n",
      "    2023-06-15T09:34:00Z INFO     Train Epoch: 0 [16380/60000 (27%)]\tloss=0.5669\n",
      "    2023-06-15T09:34:10Z INFO     Train Epoch: 0 [16800/60000 (28%)]\tloss=1.0756\n",
      "    2023-06-15T09:34:21Z INFO     Train Epoch: 0 [17220/60000 (29%)]\tloss=0.8996\n",
      "    2023-06-15T09:34:32Z INFO     Train Epoch: 0 [17640/60000 (29%)]\tloss=1.2436\n",
      "    2023-06-15T09:34:44Z INFO     Train Epoch: 0 [18060/60000 (30%)]\tloss=0.9065\n",
      "    2023-06-15T09:34:56Z INFO     Train Epoch: 0 [18480/60000 (31%)]\tloss=0.6664\n",
      "    2023-06-15T09:35:08Z INFO     Train Epoch: 0 [18900/60000 (31%)]\tloss=0.6491\n",
      "    2023-06-15T09:35:19Z INFO     Train Epoch: 0 [19320/60000 (32%)]\tloss=0.8984\n",
      "    2023-06-15T09:35:30Z INFO     Train Epoch: 0 [19740/60000 (33%)]\tloss=0.6024\n",
      "    2023-06-15T09:35:42Z INFO     Train Epoch: 0 [20160/60000 (34%)]\tloss=0.9566\n",
      "    2023-06-15T09:35:54Z INFO     Train Epoch: 0 [20580/60000 (34%)]\tloss=0.5820\n",
      "    2023-06-15T09:36:05Z INFO     Train Epoch: 0 [21000/60000 (35%)]\tloss=0.7560\n",
      "    2023-06-15T09:36:16Z INFO     Train Epoch: 0 [21420/60000 (36%)]\tloss=1.1266\n",
      "    2023-06-15T09:36:27Z INFO     Train Epoch: 0 [21840/60000 (36%)]\tloss=0.7557\n",
      "    2023-06-15T09:36:39Z INFO     Train Epoch: 0 [22260/60000 (37%)]\tloss=1.1844\n",
      "    2023-06-15T09:36:50Z INFO     Train Epoch: 0 [22680/60000 (38%)]\tloss=0.7750\n",
      "    2023-06-15T09:37:01Z INFO     Train Epoch: 0 [23100/60000 (38%)]\tloss=0.8765\n",
      "    2023-06-15T09:37:12Z INFO     Train Epoch: 0 [23520/60000 (39%)]\tloss=0.6216\n",
      "    2023-06-15T09:37:25Z INFO     Train Epoch: 0 [23940/60000 (40%)]\tloss=0.6898\n",
      "    2023-06-15T09:37:36Z INFO     Train Epoch: 0 [24360/60000 (41%)]\tloss=0.7292\n",
      "    2023-06-15T09:37:47Z INFO     Train Epoch: 0 [24780/60000 (41%)]\tloss=0.9025\n",
      "    2023-06-15T09:37:58Z INFO     Train Epoch: 0 [25200/60000 (42%)]\tloss=0.6012\n",
      "    2023-06-15T09:38:10Z INFO     Train Epoch: 0 [25620/60000 (43%)]\tloss=0.7729\n",
      "    2023-06-15T09:38:20Z INFO     Train Epoch: 0 [26040/60000 (43%)]\tloss=0.9163\n",
      "    2023-06-15T09:38:32Z INFO     Train Epoch: 0 [26460/60000 (44%)]\tloss=0.7044\n",
      "    2023-06-15T09:38:44Z INFO     Train Epoch: 0 [26880/60000 (45%)]\tloss=0.7002\n",
      "    2023-06-15T09:38:56Z INFO     Train Epoch: 0 [27300/60000 (45%)]\tloss=0.6789\n",
      "    2023-06-15T09:39:07Z INFO     Train Epoch: 0 [27720/60000 (46%)]\tloss=0.7382\n",
      "    2023-06-15T09:39:18Z INFO     Train Epoch: 0 [28140/60000 (47%)]\tloss=0.9580\n",
      "    2023-06-15T09:39:30Z INFO     Train Epoch: 0 [28560/60000 (48%)]\tloss=0.4779\n",
      "    2023-06-15T09:39:41Z INFO     Train Epoch: 0 [28980/60000 (48%)]\tloss=0.8913\n",
      "    2023-06-15T09:39:52Z INFO     Train Epoch: 0 [29400/60000 (49%)]\tloss=0.6875\n",
      "    2023-06-15T09:40:03Z INFO     Train Epoch: 0 [29820/60000 (50%)]\tloss=0.7256\n",
      "    2023-06-15T09:40:14Z INFO     Train Epoch: 0 [30240/60000 (50%)]\tloss=0.6372\n",
      "    2023-06-15T09:40:25Z INFO     Train Epoch: 0 [30660/60000 (51%)]\tloss=0.6905\n",
      "    2023-06-15T09:40:36Z INFO     Train Epoch: 0 [31080/60000 (52%)]\tloss=0.5401\n",
      "    2023-06-15T09:40:47Z INFO     Train Epoch: 0 [31500/60000 (52%)]\tloss=0.6833\n",
      "    2023-06-15T09:40:58Z INFO     Train Epoch: 0 [31920/60000 (53%)]\tloss=0.4861\n",
      "    2023-06-15T09:41:09Z INFO     Train Epoch: 0 [32340/60000 (54%)]\tloss=0.6127\n",
      "    2023-06-15T09:41:21Z INFO     Train Epoch: 0 [32760/60000 (55%)]\tloss=0.8337\n",
      "    2023-06-15T09:41:32Z INFO     Train Epoch: 0 [33180/60000 (55%)]\tloss=0.6541\n",
      "    2023-06-15T09:41:43Z INFO     Train Epoch: 0 [33600/60000 (56%)]\tloss=0.5809\n",
      "    2023-06-15T09:41:55Z INFO     Train Epoch: 0 [34020/60000 (57%)]\tloss=0.7773\n",
      "    2023-06-15T09:42:07Z INFO     Train Epoch: 0 [34440/60000 (57%)]\tloss=0.4947\n",
      "    2023-06-15T09:42:18Z INFO     Train Epoch: 0 [34860/60000 (58%)]\tloss=0.6233\n",
      "    2023-06-15T09:42:29Z INFO     Train Epoch: 0 [35280/60000 (59%)]\tloss=0.5482\n",
      "    2023-06-15T09:42:40Z INFO     Train Epoch: 0 [35700/60000 (59%)]\tloss=0.7043\n",
      "    2023-06-15T09:42:52Z INFO     Train Epoch: 0 [36120/60000 (60%)]\tloss=0.6499\n",
      "    2023-06-15T09:43:04Z INFO     Train Epoch: 0 [36540/60000 (61%)]\tloss=0.5698\n",
      "    2023-06-15T09:43:14Z INFO     Train Epoch: 0 [36960/60000 (62%)]\tloss=0.7196\n",
      "    2023-06-15T09:43:25Z INFO     Train Epoch: 0 [37380/60000 (62%)]\tloss=0.6805\n",
      "    2023-06-15T09:43:37Z INFO     Train Epoch: 0 [37800/60000 (63%)]\tloss=0.6787\n",
      "    2023-06-15T09:43:49Z INFO     Train Epoch: 0 [38220/60000 (64%)]\tloss=0.6875\n",
      "    2023-06-15T09:44:00Z INFO     Train Epoch: 0 [38640/60000 (64%)]\tloss=0.5804\n",
      "    2023-06-15T09:44:11Z INFO     Train Epoch: 0 [39060/60000 (65%)]\tloss=0.7719\n",
      "    2023-06-15T09:44:23Z INFO     Train Epoch: 0 [39480/60000 (66%)]\tloss=0.7767\n",
      "    2023-06-15T09:44:34Z INFO     Train Epoch: 0 [39900/60000 (66%)]\tloss=0.6043\n",
      "    2023-06-15T09:44:45Z INFO     Train Epoch: 0 [40320/60000 (67%)]\tloss=0.5253\n",
      "    2023-06-15T09:44:57Z INFO     Train Epoch: 0 [40740/60000 (68%)]\tloss=0.6010\n",
      "    2023-06-15T09:45:08Z INFO     Train Epoch: 0 [41160/60000 (69%)]\tloss=0.7886\n",
      "    2023-06-15T09:45:18Z INFO     Train Epoch: 0 [41580/60000 (69%)]\tloss=0.5962\n",
      "    2023-06-15T09:45:29Z INFO     Train Epoch: 0 [42000/60000 (70%)]\tloss=0.7760\n",
      "    2023-06-15T09:45:40Z INFO     Train Epoch: 0 [42420/60000 (71%)]\tloss=0.4437\n",
      "    2023-06-15T09:45:52Z INFO     Train Epoch: 0 [42840/60000 (71%)]\tloss=0.6697\n",
      "    2023-06-15T09:46:03Z INFO     Train Epoch: 0 [43260/60000 (72%)]\tloss=0.7989\n",
      "    2023-06-15T09:46:14Z INFO     Train Epoch: 0 [43680/60000 (73%)]\tloss=0.6622\n",
      "    2023-06-15T09:46:25Z INFO     Train Epoch: 0 [44100/60000 (73%)]\tloss=0.6785\n",
      "    2023-06-15T09:46:36Z INFO     Train Epoch: 0 [44520/60000 (74%)]\tloss=0.5602\n",
      "    2023-06-15T09:46:48Z INFO     Train Epoch: 0 [44940/60000 (75%)]\tloss=0.7787\n",
      "    2023-06-15T09:46:59Z INFO     Train Epoch: 0 [45360/60000 (76%)]\tloss=0.5568\n",
      "    2023-06-15T09:47:10Z INFO     Train Epoch: 0 [45780/60000 (76%)]\tloss=0.7691\n",
      "    2023-06-15T09:47:22Z INFO     Train Epoch: 0 [46200/60000 (77%)]\tloss=0.5068\n",
      "    2023-06-15T09:47:34Z INFO     Train Epoch: 0 [46620/60000 (78%)]\tloss=0.6647\n",
      "    2023-06-15T09:47:45Z INFO     Train Epoch: 0 [47040/60000 (78%)]\tloss=0.6961\n",
      "    2023-06-15T09:47:56Z INFO     Train Epoch: 0 [47460/60000 (79%)]\tloss=0.5064\n",
      "    2023-06-15T09:48:08Z INFO     Train Epoch: 0 [47880/60000 (80%)]\tloss=0.6659\n",
      "    2023-06-15T09:48:19Z INFO     Train Epoch: 0 [48300/60000 (80%)]\tloss=0.5520\n",
      "    2023-06-15T09:48:31Z INFO     Train Epoch: 0 [48720/60000 (81%)]\tloss=0.8520\n",
      "    2023-06-15T09:48:42Z INFO     Train Epoch: 0 [49140/60000 (82%)]\tloss=0.4206\n",
      "    2023-06-15T09:48:53Z INFO     Train Epoch: 0 [49560/60000 (83%)]\tloss=0.4856\n",
      "    2023-06-15T09:49:04Z INFO     Train Epoch: 0 [49980/60000 (83%)]\tloss=0.6812\n",
      "    2023-06-15T09:49:15Z INFO     Train Epoch: 0 [50400/60000 (84%)]\tloss=0.4258\n",
      "    2023-06-15T09:49:26Z INFO     Train Epoch: 0 [50820/60000 (85%)]\tloss=0.4469\n",
      "    2023-06-15T09:49:36Z INFO     Train Epoch: 0 [51240/60000 (85%)]\tloss=0.5397\n",
      "    2023-06-15T09:49:47Z INFO     Train Epoch: 0 [51660/60000 (86%)]\tloss=0.4966\n",
      "    2023-06-15T09:49:59Z INFO     Train Epoch: 0 [52080/60000 (87%)]\tloss=0.4120\n",
      "    2023-06-15T09:50:11Z INFO     Train Epoch: 0 [52500/60000 (87%)]\tloss=0.6601\n",
      "    2023-06-15T09:50:21Z INFO     Train Epoch: 0 [52920/60000 (88%)]\tloss=0.7310\n",
      "    2023-06-15T09:50:33Z INFO     Train Epoch: 0 [53340/60000 (89%)]\tloss=0.5598\n",
      "    2023-06-15T09:50:45Z INFO     Train Epoch: 0 [53760/60000 (90%)]\tloss=0.4986\n",
      "    2023-06-15T09:50:56Z INFO     Train Epoch: 0 [54180/60000 (90%)]\tloss=0.9481\n",
      "    2023-06-15T09:51:06Z INFO     Train Epoch: 0 [54600/60000 (91%)]\tloss=0.6092\n",
      "    2023-06-15T09:51:19Z INFO     Train Epoch: 0 [55020/60000 (92%)]\tloss=0.5197\n",
      "    2023-06-15T09:51:30Z INFO     Train Epoch: 0 [55440/60000 (92%)]\tloss=0.5983\n",
      "    2023-06-15T09:51:40Z INFO     Train Epoch: 0 [55860/60000 (93%)]\tloss=0.6020\n",
      "    2023-06-15T09:51:52Z INFO     Train Epoch: 0 [56280/60000 (94%)]\tloss=0.6211\n",
      "    2023-06-15T09:52:04Z INFO     Train Epoch: 0 [56700/60000 (94%)]\tloss=0.6537\n",
      "    2023-06-15T09:52:16Z INFO     Train Epoch: 0 [57120/60000 (95%)]\tloss=0.8752\n",
      "    2023-06-15T09:52:27Z INFO     Train Epoch: 0 [57540/60000 (96%)]\tloss=0.4313\n",
      "    2023-06-15T09:52:38Z INFO     Train Epoch: 0 [57960/60000 (97%)]\tloss=0.6135\n",
      "    2023-06-15T09:52:49Z INFO     Train Epoch: 0 [58380/60000 (97%)]\tloss=0.8501\n",
      "    2023-06-15T09:53:00Z INFO     Train Epoch: 0 [58800/60000 (98%)]\tloss=0.4023\n",
      "    2023-06-15T09:53:11Z INFO     Train Epoch: 0 [59220/60000 (99%)]\tloss=0.6005\n",
      "    2023-06-15T09:53:21Z INFO     Train Epoch: 0 [59640/60000 (99%)]\tloss=0.6455\n",
      "    \n"
     ]
    }
   ],
   "source": [
    "training_client.get_job_logs(pytorchjob_name, container=\"pytorch\")"
   ]
  },
  {
   "cell_type": "markdown",
   "id": "f8004890-82d9-4f97-b306-8ef2c88c0c8a",
   "metadata": {},
   "source": [
    "## Training Job 삭제"
   ]
  },
  {
   "cell_type": "code",
   "execution_count": 17,
   "id": "24a858e6-efb7-4200-ae49-ce2bb715c366",
   "metadata": {
    "execution": {
     "iopub.execute_input": "2023-06-15T09:53:54.864768Z",
     "iopub.status.busy": "2023-06-15T09:53:54.864432Z",
     "iopub.status.idle": "2023-06-15T09:53:54.887661Z",
     "shell.execute_reply": "2023-06-15T09:53:54.886705Z",
     "shell.execute_reply.started": "2023-06-15T09:53:54.864726Z"
    },
    "tags": []
   },
   "outputs": [
    {
     "name": "stderr",
     "output_type": "stream",
     "text": [
      "[I 230615 18:53:54 utils:187] PyTorchJob kbm-your-namespace/parallel-train-pytorch has been deleted\n"
     ]
    }
   ],
   "source": [
    "training_client.delete_pytorchjob(pytorchjob_name)"
   ]
  },
  {
   "cell_type": "markdown",
   "source": [],
   "metadata": {
    "collapsed": false
   }
  },
  {
   "cell_type": "code",
   "execution_count": null,
   "id": "a9dfe3d8-85d9-42a3-814a-aef54aac4b50",
   "metadata": {},
   "outputs": [],
   "source": []
  }
 ],
 "metadata": {
  "kernelspec": {
   "display_name": "Python 3",
   "language": "python",
   "name": "python3"
  },
  "language_info": {
   "codemirror_mode": {
    "name": "ipython",
    "version": 3
   },
   "file_extension": ".py",
   "mimetype": "text/x-python",
   "name": "python",
   "nbconvert_exporter": "python",
   "pygments_lexer": "ipython3",
   "version": "3.6.9"
  }
 },
 "nbformat": 4,
 "nbformat_minor": 5
}
